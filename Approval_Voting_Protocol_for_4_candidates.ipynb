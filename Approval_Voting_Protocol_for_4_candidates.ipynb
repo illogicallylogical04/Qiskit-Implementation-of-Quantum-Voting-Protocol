{
 "cells": [
  {
   "cell_type": "markdown",
   "id": "4c885537",
   "metadata": {},
   "source": [
    "<b>Approval Voting</b> for <b>4</b> candidates.\n",
    "\n",
    "Harnessing the distinctive qualities of quantum superposition, quantum entanglement, blockchain technology, and cryptographic signatures, the presented protocol introduces a groundbreaking method for upholding the integrity, security, and confidentiality of the voting procedure. \n",
    "\n",
    "Characters: Alice - the Voter, Bob - the Tallyman, Charlie$_{i}$ - the Scrutineer"
   ]
  },
  {
   "cell_type": "markdown",
   "id": "7f140485",
   "metadata": {},
   "source": [
    "<b>Initialization</b>\n",
    "\n",
    "1. Alice wants to cast her vote. \n",
    "\n",
    "2. Bob and Alice checks each others credentials (non-repeatability and eligibility). If Alice is eligible, then Bob gives her a unique Id number.\n",
    "\n",
    "3. Bob and Alice uses a specific hash function (that they only knows) to create a hash id for the unique ID. Bob stores the hash id in the voting database.\n",
    "\n",
    "4. Bob gives secret keys of '4' length to Alice and Charlie. K$_{AB}$, K$_{AC}$ to Alice and K$_{AC}$ to Charlie. Bob generates the secret keys via Quantum Random Number Generator (QRNG). Secret keys are randomly generated binary numbers of length '4'.\n",
    "\n",
    "5. Bob sends '2'($\\sqrt{4}$) qubits to Alice.\n",
    "\n",
    "6. Alice encodes her vote in both the qubits with the help of superposition. Then Alice generates a bell state of her choice in these qubits."
   ]
  },
  {
   "cell_type": "markdown",
   "id": "4f6e81e2",
   "metadata": {},
   "source": [
    "Let Alice's vote is '1101', that means she approves for 1st, 2rd and 4th Candidate, while Alice disapproves for 3rd candidate.\n",
    "\n",
    "Here, basis which have non-zero amplitude corresponds to approval, i.e., $|00\\rangle$, $|01\\rangle$ and $|11\\rangle$ should have non-zero amplitudes, which means approval for 1st, 2nd and 4th candidate.\n",
    "\n",
    "and $|01\\rangle$ should have amplitude = 0, which means disapproval for second candidate.\n",
    "\n",
    "Therefore, $|00\\rangle$ symbolizes 1st Candidate, $|01\\rangle$ symbolizes 2nd candidate and so on.\n",
    "\n",
    "<img src=\"candidates.png\" width=\"400\" height=\"200\">"
   ]
  },
  {
   "cell_type": "code",
   "execution_count": null,
   "id": "4cb5e409",
   "metadata": {},
   "outputs": [],
   "source": [
    "# importing necessary libraries\n",
    "import math\n",
    "import numpy as np\n",
    "from qiskit import QuantumCircuit\n",
    "from qiskit.quantum_info import Statevector\n",
    "from qiskit.visualization import array_to_latex"
   ]
  },
  {
   "cell_type": "code",
   "execution_count": null,
   "id": "60b7259f",
   "metadata": {},
   "outputs": [],
   "source": [
    "# Generating circuit Alice can use to encode her vote.\n",
    "\n",
    "vote =  [\n",
    "    1/math.sqrt(3),\n",
    "    1/math.sqrt(3),\n",
    "    0,\n",
    "    1/math.sqrt(3)]\n",
    "\n",
    "msg = QuantumCircuit(2)\n",
    "msg.initialize(vote, [0,1])\n",
    "#msg.decompose().decompose().decompose().decompose().decompose().draw()\n",
    "msg.draw()\n",
    "msg.to_instruction(label=\"VOTE\")\n",
    "msg.draw()"
   ]
  },
  {
   "cell_type": "code",
   "execution_count": null,
   "id": "fa25f90b",
   "metadata": {},
   "outputs": [],
   "source": [
    "def vote_message(vote = [0,0,0,0]):\n",
    "    \"\"\"\n",
    "    Args: \n",
    "    Function to translate vote to qiskit circuit\n",
    "    \n",
    "    Input:\n",
    "    list: list consisting of approval and disapproval of candidates. By default set to [0,0,0,0]\n",
    "    \n",
    "    Output:\n",
    "    message(qiskit.circuit): circuit consisting vote.\n",
    "    \"\"\"\n",
    "    no_of_cand = len(vote)\n",
    "    approve = 0      # to count number of candidates approved by a particular voter\n",
    "    disapprove = 0\n",
    "    for i in vote:\n",
    "        if i == 1:\n",
    "            approve += 1\n",
    "        else:\n",
    "            disapprove += 1\n",
    "    \n",
    "    n = 1/np.sqrt(approve)    # normalization factor\n",
    "    \n",
    "    vote_message = [i*n for i in vote]    # adding normalization factor to the vote \n",
    "    \n",
    "    message = QuantumCircuit(2, name = 'Vote Message')   # 2 qubit registers as total candidates = 4\n",
    "    message.initialize(vote_message,[0,1])\n",
    "    message.to_instruction(label='VOTE')\n",
    "    return message"
   ]
  },
  {
   "cell_type": "code",
   "execution_count": null,
   "id": "693fbb90",
   "metadata": {},
   "outputs": [],
   "source": [
    "message = vote_message([0,0,1,0])\n",
    "print(message)"
   ]
  },
  {
   "cell_type": "code",
   "execution_count": null,
   "id": "8016ff91",
   "metadata": {},
   "outputs": [],
   "source": [
    "# Circuit to make Bell states.\n",
    "# Assume Alice making first bell state.\n",
    "\n",
    "bell_1 = QuantumCircuit(2, name = 'Bell States')\n",
    "bell_1.h(0)\n",
    "bell_1.cx(0,1)\n",
    "bell_1.to_gate()\n",
    "bell_1.draw()"
   ]
  },
  {
   "cell_type": "code",
   "execution_count": null,
   "id": "3dbd4022",
   "metadata": {},
   "outputs": [],
   "source": [
    "# circuit for adding signature\n",
    "# Assume Alice signs her states by add a Z gate to 1st qubit and X gate to 2nd qubit.\n",
    "\n",
    "sign = QuantumCircuit(2, name = 'Signature')\n",
    "sign.z(0)\n",
    "sign.x(1)\n",
    "sign.to_gate()\n",
    "sign.draw()"
   ]
  },
  {
   "cell_type": "code",
   "execution_count": null,
   "id": "9db83f39",
   "metadata": {},
   "outputs": [],
   "source": [
    "# combination of all of Alice's operation\n",
    "\n",
    "circuit = QuantumCircuit(2)\n",
    "circuit.append(message, [0,1])\n",
    "circuit.append(bell_1, [0,1])\n",
    "circuit.append(sign, [0,1])\n",
    "circuit.draw()"
   ]
  },
  {
   "cell_type": "markdown",
   "id": "8f2ad661",
   "metadata": {},
   "source": [
    "7. Alice encryptes both the qubits, her hash ID, and the key of signature(details of signing procedure) by $K_{AC}$. Alice sends the encrypted message to Charlie.\n",
    "\n",
    "8. Charlie decryptes the message (both qubits, hash ID and signature details) with $K_{AC}$.\n",
    "\n",
    "9. Bob shares the voting database with Charlie.\n",
    "\n",
    "10. Charlie uses Grover's Search Algorithm to search Alice's hash ID in the database.\n",
    "\n",
    "11. If Charlie finds Alice's hash ID in the database, then she will add the node in the quantum blockchain. Node will contain (Alice's unsigned message + Alice's hash ID + time stamp + hash ID of previous node).\n",
    "\n",
    "12. After the node is added in the blockchain, Alice can see her vote is counted. Then Alice shares the details of Bell state entanglement with Bob.\n",
    "\n",
    "13. Bob will unentangle both the qubits and will receive the original vote message."
   ]
  },
  {
   "cell_type": "code",
   "execution_count": null,
   "id": "c575165e",
   "metadata": {},
   "outputs": [],
   "source": [
    "# gate sent by Alice to send to Charlie to get unsigned message.\n",
    "\n",
    "sign_inv = sign.inverse()\n",
    "sign_inv.to_gate()"
   ]
  },
  {
   "cell_type": "code",
   "execution_count": null,
   "id": "eb72f5ac",
   "metadata": {},
   "outputs": [],
   "source": [
    "# Charlie's operation\n",
    "\n",
    "circuit.barrier()\n",
    "circuit.append(sign_inv, [0,1])"
   ]
  },
  {
   "cell_type": "code",
   "execution_count": null,
   "id": "9e860bad",
   "metadata": {},
   "outputs": [],
   "source": [
    "# Bob's gate after getting details about Bell States\n",
    "\n",
    "bell_inv = bell_1.inverse()\n",
    "bell_inv.to_gate()"
   ]
  },
  {
   "cell_type": "code",
   "execution_count": null,
   "id": "26f92388",
   "metadata": {},
   "outputs": [],
   "source": [
    "# Bob's operation to get the original vote under supervision of Charlie\n",
    "\n",
    "circuit.append(bell_inv, [0,1])"
   ]
  },
  {
   "cell_type": "code",
   "execution_count": null,
   "id": "4a57714c",
   "metadata": {},
   "outputs": [],
   "source": [
    "circuit_noise = circuit"
   ]
  },
  {
   "cell_type": "code",
   "execution_count": null,
   "id": "5e7a0b03",
   "metadata": {},
   "outputs": [],
   "source": [
    "circuit_noise.draw()"
   ]
  },
  {
   "cell_type": "code",
   "execution_count": null,
   "id": "7fd588da",
   "metadata": {},
   "outputs": [],
   "source": [
    "circuit.measure_all()\n",
    "circuit.draw()"
   ]
  },
  {
   "cell_type": "markdown",
   "id": "6de3af0a",
   "metadata": {},
   "source": [
    "14. Bob can tally the votes under Charlie's supervision and announce the winner."
   ]
  },
  {
   "cell_type": "markdown",
   "id": "ebde92ea",
   "metadata": {},
   "source": [
    "## Noise Introduction"
   ]
  },
  {
   "cell_type": "code",
   "execution_count": null,
   "id": "bab78a90",
   "metadata": {},
   "outputs": [],
   "source": [
    "from qiskit.providers.aer.noise import NoiseModel\n",
    "from qiskit.providers.aer.noise.errors import pauli_error, depolarizing_error"
   ]
  },
  {
   "cell_type": "code",
   "execution_count": null,
   "id": "7156fc4a",
   "metadata": {},
   "outputs": [],
   "source": [
    "def get_noise(p_meas,p_gate):\n",
    "    \"\"\"\n",
    "    Args: \n",
    "    Function to define a noise model.\n",
    "    \n",
    "    Input:\n",
    "    p_meas: Probability of measurement error.\n",
    "    \n",
    "    p_gate: Probability of gate error.\n",
    "    \n",
    "    Output:\n",
    "    noise_model: A noise model\n",
    "    \"\"\"\n",
    "\n",
    "    error_meas = pauli_error([('X',p_meas), ('I', 1 - p_meas)])\n",
    "    error_gate1 = depolarizing_error(p_gate, 1)\n",
    "    error_gate2 = error_gate1.tensor(error_gate1)\n",
    "\n",
    "    noise_model = NoiseModel()\n",
    "    noise_model.add_all_qubit_quantum_error(error_meas, \"measure\") # measurement error is applied to measurements\n",
    "    noise_model.add_all_qubit_quantum_error(error_gate1, [\"x\"]) # single qubit gate error is applied to x gates\n",
    "    noise_model.add_all_qubit_quantum_error(error_gate1, [\"z\"])\n",
    "\n",
    "    noise_model.add_all_qubit_quantum_error(error_gate1, [\"ry\"])\n",
    "    noise_model.add_all_qubit_quantum_error(error_gate1, [\"r\"])\n",
    "    noise_model.add_all_qubit_quantum_error(error_gate1, [\"h\"])\n",
    "    noise_model.add_all_qubit_quantum_error(error_gate2, [\"cx\"]) # two qubit gate error is applied to cx gates\n",
    "    \n",
    "    return noise_model"
   ]
  },
  {
   "cell_type": "code",
   "execution_count": null,
   "id": "93b23194",
   "metadata": {},
   "outputs": [],
   "source": [
    "noise_model = get_noise(0, 0.1) "
   ]
  },
  {
   "cell_type": "markdown",
   "id": "00d7579b",
   "metadata": {},
   "source": [
    "# Measurement"
   ]
  },
  {
   "cell_type": "code",
   "execution_count": null,
   "id": "28d044bf",
   "metadata": {},
   "outputs": [],
   "source": [
    "from qiskit_aer import AerSimulator\n",
    "from qiskit import execute, Aer\n",
    "from qiskit.tools.visualization import plot_histogram\n",
    "\n",
    "circuit.measure([0,1],[0,1])\n",
    "\n",
    "# run the circuit with th noise model and extract the counts\n",
    "counts_perfect = execute(circuit, Aer.get_backend('qasm_simulator'), shots=1024).result().get_counts()\n",
    "counts_noisy = execute(circuit_noise, AerSimulator(noise_model=noise_model), shots=1024).result().get_counts()\n",
    "\n",
    "print(counts_perfect)\n",
    "print(counts_noisy)\n",
    "\n",
    "print('Counts for perfect 00:', counts_perfect.get('00'))\n",
    "print('Counts for noisy 00:',counts_noisy.get('00'))\n",
    "\n",
    "print('Counts for perfect 01:',counts_perfect.get('01'))      \n",
    "print('Counts for noisy 01:', counts_noisy.get('01'))\n",
    "\n",
    "print('Counts for perfect 11:',counts_perfect.get('11'))\n",
    "print('Counts for noisy 11:',counts_noisy.get('11'))"
   ]
  },
  {
   "cell_type": "code",
   "execution_count": null,
   "id": "9f9a569b",
   "metadata": {},
   "outputs": [],
   "source": [
    "# sorting results in ascending order of basis\n",
    "\n",
    "key = list(counts_noisy.keys())\n",
    "key.sort()\n",
    "counts_noisy = {i: counts_noisy[i] for i in key}\n",
    "print(counts_noisy)\n",
    "\n",
    "key = list(counts_perfect.keys())\n",
    "key.sort()\n",
    "counts_perfect = {i: counts_perfect[i] for i in key}\n",
    "print(counts_perfect)"
   ]
  },
  {
   "cell_type": "code",
   "execution_count": null,
   "id": "408ba267",
   "metadata": {},
   "outputs": [],
   "source": [
    "label_perfect = []\n",
    "size_perfect = []\n",
    "label_perfect = list(counts_perfect.keys())\n",
    "size_perfect = list(counts_perfect.values())\n",
    "print(label_perfect, size_perfect)"
   ]
  },
  {
   "cell_type": "code",
   "execution_count": null,
   "id": "a7e230ad",
   "metadata": {},
   "outputs": [],
   "source": [
    "import matplotlib.pyplot as plt\n",
    "plt.pie(size_perfect, labels=label_perfect, autopct='%1.1f%%')\n",
    "plt.title('Ideal counts')\n",
    "plt.show()"
   ]
  },
  {
   "cell_type": "code",
   "execution_count": null,
   "id": "e5f14964",
   "metadata": {},
   "outputs": [],
   "source": [
    "label_noisy = []\n",
    "size_noisy = []"
   ]
  },
  {
   "cell_type": "code",
   "execution_count": null,
   "id": "855e7808",
   "metadata": {},
   "outputs": [],
   "source": [
    "label_noisy = list(counts_noisy.keys())\n",
    "size_noisy = list(counts_noisy.values())\n",
    "print(label_noisy, size_noisy)"
   ]
  },
  {
   "cell_type": "code",
   "execution_count": null,
   "id": "785bd3b2",
   "metadata": {},
   "outputs": [],
   "source": [
    "import matplotlib.pyplot as plt\n",
    "plt.pie(size_noisy, labels=label_noisy, autopct='%1.1f%%')\n",
    "plt.title('Noisy counts')\n",
    "plt.show()"
   ]
  },
  {
   "cell_type": "code",
   "execution_count": null,
   "id": "98b6bfaf",
   "metadata": {},
   "outputs": [],
   "source": [
    "import matplotlib.pyplot as plt\n",
    "error = []\n",
    "\n",
    "for i in counts_noisy:\n",
    "    if i in counts_perfect:\n",
    "        error.append(abs(341-counts_noisy[i]))\n",
    "       \n",
    "plt.bar(label_perfect, size_perfect)\n",
    "plt.errorbar(label_perfect, size_perfect, yerr=error, fmt='o', color='r')\n",
    "plt.xlabel('Basis')\n",
    "plt.ylabel('Counts')\n",
    "plt.title('Error bar Diagram')\n",
    "plt.show()"
   ]
  },
  {
   "cell_type": "markdown",
   "id": "53c58d31",
   "metadata": {},
   "source": [
    "## Running on real hardware"
   ]
  },
  {
   "cell_type": "code",
   "execution_count": null,
   "id": "90b5cb57",
   "metadata": {},
   "outputs": [],
   "source": [
    "from qiskit import Aer, execute, transpile, IBMQ\n",
    "\n",
    "# Loading your IBM Quantum account(s)\n",
    "provider = IBMQ.load_account()"
   ]
  },
  {
   "cell_type": "code",
   "execution_count": null,
   "id": "4d60a3f3",
   "metadata": {},
   "outputs": [],
   "source": [
    "# to check the list of available backends\n",
    "\n",
    "print([backend.name() for backend in IBMQ.providers()[0].backends()])"
   ]
  },
  {
   "cell_type": "code",
   "execution_count": null,
   "id": "dad23c81",
   "metadata": {},
   "outputs": [],
   "source": [
    "# getting the least busy backend\n",
    "\n",
    "from qiskit.providers.ibmq import least_busy\n",
    "backend = least_busy(provider.backends(filters= lambda x: not x.configuration().simulator))\n",
    "print(backend)"
   ]
  },
  {
   "cell_type": "code",
   "execution_count": null,
   "id": "c6b9cd6a",
   "metadata": {},
   "outputs": [],
   "source": [
    "least_busy = provider.get_backend(backend)\n",
    "least_busy"
   ]
  },
  {
   "cell_type": "code",
   "execution_count": null,
   "id": "c8baa629",
   "metadata": {},
   "outputs": [],
   "source": [
    "from qiskit.tools import job_monitor\n",
    "job = execute(circuit, least_busy, shots = 1024)"
   ]
  },
  {
   "cell_type": "code",
   "execution_count": null,
   "id": "3959a193",
   "metadata": {},
   "outputs": [],
   "source": [
    "job_monitor(job)"
   ]
  },
  {
   "cell_type": "code",
   "execution_count": null,
   "id": "bdf99259",
   "metadata": {},
   "outputs": [],
   "source": [
    "result = job.result()\n",
    "counts = result.get_counts(circuit)\n",
    "counts"
   ]
  },
  {
   "cell_type": "code",
   "execution_count": null,
   "id": "9492690e",
   "metadata": {},
   "outputs": [],
   "source": [
    "from qiskit.visualization import plot_histogram\n",
    "plot_histogram(counts)"
   ]
  }
 ],
 "metadata": {
  "kernelspec": {
   "display_name": "Python 3 (ipykernel)",
   "language": "python",
   "name": "python3"
  },
  "language_info": {
   "codemirror_mode": {
    "name": "ipython",
    "version": 3
   },
   "file_extension": ".py",
   "mimetype": "text/x-python",
   "name": "python",
   "nbconvert_exporter": "python",
   "pygments_lexer": "ipython3",
   "version": "3.10.9"
  }
 },
 "nbformat": 4,
 "nbformat_minor": 5
}
